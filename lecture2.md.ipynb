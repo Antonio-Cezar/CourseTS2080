{
 "cells": [
  {
   "cell_type": "code",
   "execution_count": 1,
   "id": "74806b28-4106-4e6d-b8bf-96b95a7dd1e0",
   "metadata": {},
   "outputs": [],
   "source": [
    "class Employee: \n",
    "     \n",
    "    # constructor \n",
    "    def __init__(self,name,salary,project): \n",
    "        self.name = name \n",
    "        self.salary = salary \n",
    "        self.project = project"
   ]
  },
  {
   "cell_type": "code",
   "execution_count": 2,
   "id": "c4b07e38-df03-49f7-89e4-43a1d439e29f",
   "metadata": {},
   "outputs": [
    {
     "name": "stdout",
     "output_type": "stream",
     "text": [
      "Jessa\n",
      "8000\n",
      "NLP\n"
     ]
    }
   ],
   "source": [
    "# creating object of a class \n",
    "emp = Employee('Jessa', 8000, 'NLP') \n",
    " \n",
    "# calling public method of the class \n",
    "print(emp.name) \n",
    "print(emp.salary) \n",
    "print(emp.project) "
   ]
  },
  {
   "cell_type": "code",
   "execution_count": 3,
   "id": "e9e0e7c6-df4a-421f-8465-90c657fc3e92",
   "metadata": {},
   "outputs": [
    {
     "ename": "AttributeError",
     "evalue": "'Employee' object has no attribute '__salary'",
     "output_type": "error",
     "traceback": [
      "\u001b[1;31m---------------------------------------------------------------------------\u001b[0m",
      "\u001b[1;31mAttributeError\u001b[0m                            Traceback (most recent call last)",
      "\u001b[1;32m<ipython-input-3-7d496b4bbbac>\u001b[0m in \u001b[0;36m<module>\u001b[1;34m\u001b[0m\n\u001b[0;32m     11\u001b[0m \u001b[1;33m\u001b[0m\u001b[0m\n\u001b[0;32m     12\u001b[0m \u001b[1;31m# accessing private data members\u001b[0m\u001b[1;33m\u001b[0m\u001b[1;33m\u001b[0m\u001b[1;33m\u001b[0m\u001b[0m\n\u001b[1;32m---> 13\u001b[1;33m \u001b[0mprint\u001b[0m\u001b[1;33m(\u001b[0m\u001b[1;34m'Salary:'\u001b[0m\u001b[1;33m,\u001b[0m \u001b[0memp\u001b[0m\u001b[1;33m.\u001b[0m\u001b[0m__salary\u001b[0m\u001b[1;33m)\u001b[0m\u001b[1;33m\u001b[0m\u001b[1;33m\u001b[0m\u001b[0m\n\u001b[0m",
      "\u001b[1;31mAttributeError\u001b[0m: 'Employee' object has no attribute '__salary'"
     ]
    }
   ],
   "source": [
    "class Employee: \n",
    "    # constructor \n",
    "    def __init__(self, name, salary): \n",
    "        # public data member \n",
    "        self.name = name \n",
    "        # private member \n",
    "        self.__salary = salary \n",
    " \n",
    "# creating object of a class \n",
    "emp = Employee('Jessa', 10000) \n",
    " \n",
    "# accessing private data members \n",
    "print('Salary:', emp.__salary) "
   ]
  },
  {
   "cell_type": "code",
   "execution_count": 4,
   "id": "93426713-905b-4bb9-b31f-46d9c3b148e9",
   "metadata": {},
   "outputs": [
    {
     "name": "stdout",
     "output_type": "stream",
     "text": [
      "Name:  Jessa Salary: 10000\n"
     ]
    }
   ],
   "source": [
    "\n",
    "class Employee: \n",
    "    # constructor \n",
    "    def __init__(self, name, salary): \n",
    "        # public data member \n",
    "        self.name = name \n",
    "        # private member \n",
    "        self.__salary = salary \n",
    " \n",
    "    # public instance methods \n",
    "    def show(self): \n",
    "        # private members are accessible from a class \n",
    "        print(\"Name: \", self.name, 'Salary:', self.__salary) \n",
    " \n",
    "# creating object of a class \n",
    "emp = Employee('Jessa', 10000) \n",
    " \n",
    "# calling public method of the class \n",
    "emp.show() "
   ]
  },
  {
   "cell_type": "code",
   "execution_count": 5,
   "id": "df6c7b7d-2d41-47a8-ad6b-928d385150aa",
   "metadata": {},
   "outputs": [
    {
     "name": "stdout",
     "output_type": "stream",
     "text": [
      "Name: Jessa\n",
      "Salary: 10000\n"
     ]
    }
   ],
   "source": [
    "class Employee: \n",
    "    # constructor \n",
    "    def __init__(self, name, salary): \n",
    "        # public data member \n",
    "        self.name = name \n",
    "        # private member \n",
    "        self.__salary = salary \n",
    " \n",
    "# creating object of a class \n",
    "emp = Employee('Jessa', 10000) \n",
    " \n",
    "print('Name:', emp.name) \n",
    "# direct access to private member using name mangling \n",
    "print('Salary:', emp._Employee__salary) "
   ]
  },
  {
   "cell_type": "code",
   "execution_count": 6,
   "id": "8b0b86d8-dfc9-4f74-949d-3ca9ed00949e",
   "metadata": {},
   "outputs": [
    {
     "ename": "IndentationError",
     "evalue": "expected an indented block (<ipython-input-6-025eef972804>, line 3)",
     "output_type": "error",
     "traceback": [
      "\u001b[1;36m  File \u001b[1;32m\"<ipython-input-6-025eef972804>\"\u001b[1;36m, line \u001b[1;32m3\u001b[0m\n\u001b[1;33m    8/26/22, 3:54 PMOOD_Code\u001b[0m\n\u001b[1;37m    ^\u001b[0m\n\u001b[1;31mIndentationError\u001b[0m\u001b[1;31m:\u001b[0m expected an indented block\n"
     ]
    }
   ],
   "source": [
    "# base class \n",
    "class Company: \n",
    "8/26/22, 3:54 PMOOD_Code\n",
    "localhost:8892/lab3/3\n",
    "Employee name : Jessa \n",
    "Working on project : NLP \n",
    "Project: NLP \n",
    "    def __init__(self): \n",
    "        # Protected member \n",
    "        self._project = \"NLP\" \n",
    " \n",
    "# child class \n",
    "class Employee(Company): \n",
    "    def __init__(self, name): \n",
    "        self.name = name \n",
    "        Company.__init__(self) \n",
    " \n",
    "    def show(self): \n",
    "        print(\"Employee name :\", self.name) \n",
    "        # Accessing protected member in child class \n",
    "        print(\"Working on project :\", self._project) \n",
    " \n",
    "c = Employee(\"Jessa\") \n",
    "c.show() \n",
    " \n",
    "# Direct access protected data member \n",
    "print('Project:', c._project) "
   ]
  },
  {
   "cell_type": "code",
   "execution_count": null,
   "id": "a8e49d37-f4dc-4a7a-960b-d718dc2d2326",
   "metadata": {},
   "outputs": [],
   "source": []
  }
 ],
 "metadata": {
  "kernelspec": {
   "display_name": "Python 3",
   "language": "python",
   "name": "python3"
  },
  "language_info": {
   "codemirror_mode": {
    "name": "ipython",
    "version": 3
   },
   "file_extension": ".py",
   "mimetype": "text/x-python",
   "name": "python",
   "nbconvert_exporter": "python",
   "pygments_lexer": "ipython3",
   "version": "3.8.8"
  }
 },
 "nbformat": 4,
 "nbformat_minor": 5
}
